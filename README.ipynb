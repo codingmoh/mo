{
 "cells": [
  {
   "attachments": {},
   "cell_type": "markdown",
   "metadata": {},
   "source": [
    "# Using this Studio"
   ]
  },
  {
   "attachments": {},
   "cell_type": "markdown",
   "metadata": {},
   "source": [
    "You can find the code covered in the Unit 8 videos in the `./code-units` subfolder. I recommend you first watch the videos and then experiment with the code.\n",
    "\n",
    "\n",
    "<br>\n",
    "\n",
    "<iframe width=\"560\" height=\"315\" src=\"https://www.youtube.com/embed/3SK_tFAcUP8?si=NGlrCWC7YsewAJAc\" title=\"YouTube video player\" frameborder=\"0\" allow=\"accelerometer; autoplay; clipboard-write; encrypted-media; gyroscope; picture-in-picture; web-share\" allowfullscreen></iframe>\n",
    "\n",
    "- [Part 2](https://www.youtube.com/watch?v=eEKXC2Oti8A&list=PLaMu-SDt_RB403GN5DU7NYVoVmO5Vsgkh&index=5) continuing the video above\n",
    "- [The complete YouTube Playlist](https://www.youtube.com/watch?v=uqYrVdlXkz8&list=PLaMu-SDt_RB403GN5DU7NYVoVmO5Vsgkh) with all 12 videos in Unit 9\n",
    "- [Or access the Unit 9 videos on the Lightning website](https://lightning.ai/courses/deep-learning-fundamentals/), which includes additional quizzes\n",
    "\n",
    "<br>"
   ]
  },
  {
   "attachments": {},
   "cell_type": "markdown",
   "metadata": {},
   "source": [
    "After exploring the code, you may want to try the following exercises in the `./exercises` subfolder."
   ]
  }
 ],
 "metadata": {
  "kernelspec": {
   "display_name": "Python 3",
   "language": "python",
   "name": "python3"
  },
  "language_info": {
   "codemirror_mode": {
    "name": "ipython",
    "version": 3
   },
   "file_extension": ".py",
   "mimetype": "text/x-python",
   "name": "python",
   "nbconvert_exporter": "python",
   "pygments_lexer": "ipython3",
   "version": "3.10.10"
  }
 },
 "nbformat": 4,
 "nbformat_minor": 4
}
